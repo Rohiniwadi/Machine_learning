{
  "nbformat": 4,
  "nbformat_minor": 0,
  "metadata": {
    "colab": {
      "name": "recommendaton_system.ipynb",
      "provenance": [],
      "collapsed_sections": []
    },
    "kernelspec": {
      "name": "python3",
      "display_name": "Python 3"
    }
  },
  "cells": [
    {
      "cell_type": "markdown",
      "metadata": {
        "id": "bZrCl7SAIBzD",
        "colab_type": "text"
      },
      "source": [
        "# **Recommendation** **System**\n",
        "## Task Description\n",
        " The task here is,to develop a recommendation system to recommend products to a customer on a website like flipkart. Recommendations is based on the products consumer has searched on other sites like Google .One popular technique of recommendation systems that I  have used ,is content-based filtering. Content here refers to the content or  the products customer like. So, the idea in content-based filtering is to tag products using certain keywords, understand what the user likes, look up those keywords in the database and recommend different products with the same attribute.\n"
      ]
    },
    {
      "cell_type": "code",
      "metadata": {
        "id": "cmEyJfjuGCaE",
        "colab_type": "code",
        "colab": {}
      },
      "source": [
        "import pandas as pd\n",
        "from sklearn.feature_extraction.text import TfidfVectorizer\n",
        "from sklearn.metrics.pairwise import linear_kernel"
      ],
      "execution_count": 7,
      "outputs": []
    },
    {
      "cell_type": "markdown",
      "metadata": {
        "id": "ogppF_I6IeOc",
        "colab_type": "text"
      },
      "source": [
        "## Loading Data"
      ]
    },
    {
      "cell_type": "code",
      "metadata": {
        "id": "DE8YOAwqH09G",
        "colab_type": "code",
        "colab": {}
      },
      "source": [
        "dataset = pd.read_csv(\"sample-data.csv\")"
      ],
      "execution_count": 8,
      "outputs": []
    },
    {
      "cell_type": "code",
      "metadata": {
        "id": "AAN-NuR0FBga",
        "colab_type": "code",
        "colab": {}
      },
      "source": [
        "tf = TfidfVectorizer(analyzer='word', ngram_range=(1, 3), min_df=0, stop_words='english')\n",
        "tfidf_matrix = tf.fit_transform(dataset['description'])"
      ],
      "execution_count": 9,
      "outputs": []
    },
    {
      "cell_type": "code",
      "metadata": {
        "id": "gpP-BVbtFZpy",
        "colab_type": "code",
        "colab": {}
      },
      "source": [
        "cosine_similarities = linear_kernel(tfidf_matrix, tfidf_matrix) \n",
        "results = {}\n",
        "for idx, row in dataset.iterrows():\n",
        "   similar_indices = cosine_similarities[idx].argsort()[:-100:-1] \n",
        "   similar_items = [(cosine_similarities[idx][i], dataset['id'][i]) for i in similar_indices] \n",
        "   results[row['id']] = similar_items[1:]"
      ],
      "execution_count": 10,
      "outputs": []
    },
    {
      "cell_type": "markdown",
      "metadata": {
        "id": "FZ5UZvH-KEmg",
        "colab_type": "text"
      },
      "source": [
        "## Recommending Similar Product"
      ]
    },
    {
      "cell_type": "code",
      "metadata": {
        "id": "kfT9zF9cF7J8",
        "colab_type": "code",
        "colab": {}
      },
      "source": [
        "def item(id):  \n",
        "  return dataset.loc[dataset['id'] == id]['description'].tolist()[0].split(' - ')[0] \n",
        "def recommend(item_id, num):\n",
        "    print(\"Recommending \" + str(num) + \" products similar to \" + item(item_id) + \"...\")   \n",
        "    print(\"-------\")    \n",
        "    recs = results[item_id][:num]   \n",
        "    for rec in recs: \n",
        "       print(\"Recommended: \" + item(rec[1]) )"
      ],
      "execution_count": 11,
      "outputs": []
    },
    {
      "cell_type": "code",
      "metadata": {
        "id": "Eg9S4uj8Gke9",
        "colab_type": "code",
        "colab": {
          "base_uri": "https://localhost:8080/",
          "height": 204
        },
        "outputId": "d7a00b19-c25b-4a4f-84b8-0cc4fee07257"
      },
      "source": [
        "# Here,passing an item_id simulates searching of product\n",
        "recommend(item_id=151, num=9)"
      ],
      "execution_count": 12,
      "outputs": [
        {
          "output_type": "stream",
          "text": [
            "Recommending 9 products similar to World according to bikers t-shir...\n",
            "-------\n",
            "Recommended: Flying fish 2 t-shirt\n",
            "Recommended: Squid t-shirt\n",
            "Recommended: The more you know t-shirt\n",
            "Recommended: Quiet please t-shirt\n",
            "Recommended: Rockpile t-shirt\n",
            "Recommended: Live simply deer t-shirt\n",
            "Recommended: Organic logo t-shirt\n",
            "Recommended: Live simply guitar t-shirt\n",
            "Recommended: Mountain island t-shirt\n"
          ],
          "name": "stdout"
        }
      ]
    },
    {
      "cell_type": "code",
      "metadata": {
        "id": "e9dOoeDeHKc9",
        "colab_type": "code",
        "colab": {}
      },
      "source": [
        ""
      ],
      "execution_count": null,
      "outputs": []
    }
  ]
}